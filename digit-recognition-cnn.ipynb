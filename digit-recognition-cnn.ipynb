{
 "cells": [
  {
   "cell_type": "code",
   "execution_count": 1,
   "id": "c0915eaf",
   "metadata": {
    "_cell_guid": "b1076dfc-b9ad-4769-8c92-a6c4dae69d19",
    "_uuid": "8f2839f25d086af736a60e9eeb907d3b93b6e0e5",
    "execution": {
     "iopub.execute_input": "2023-01-23T09:04:07.086776Z",
     "iopub.status.busy": "2023-01-23T09:04:07.085993Z",
     "iopub.status.idle": "2023-01-23T09:04:17.719055Z",
     "shell.execute_reply": "2023-01-23T09:04:17.716934Z"
    },
    "papermill": {
     "duration": 10.648065,
     "end_time": "2023-01-23T09:04:17.722390",
     "exception": false,
     "start_time": "2023-01-23T09:04:07.074325",
     "status": "completed"
    },
    "tags": []
   },
   "outputs": [],
   "source": [
    "import numpy as np\n",
    "import pandas as pd\n",
    "import seaborn as sns\n",
    "\n",
    "from sklearn.model_selection import train_test_split\n",
    "\n",
    "import tensorflow as tf\n",
    "from keras.utils.np_utils import to_categorical\n",
    "from keras.preprocessing.image import ImageDataGenerator\n",
    "from tensorflow.keras.models import Sequential\n",
    "from tensorflow.keras.layers import Conv2D, MaxPool2D, Flatten, Dropout, Dense\n",
    "from tensorflow.keras.optimizers import Adam\n",
    "from sklearn.metrics import confusion_matrix\n",
    "import itertools\n",
    "import matplotlib.pyplot as plt"
   ]
  },
  {
   "cell_type": "code",
   "execution_count": 2,
   "id": "0decc0e3",
   "metadata": {
    "execution": {
     "iopub.execute_input": "2023-01-23T09:04:17.738353Z",
     "iopub.status.busy": "2023-01-23T09:04:17.737559Z",
     "iopub.status.idle": "2023-01-23T09:04:24.310552Z",
     "shell.execute_reply": "2023-01-23T09:04:24.308574Z"
    },
    "papermill": {
     "duration": 6.58506,
     "end_time": "2023-01-23T09:04:24.314269",
     "exception": false,
     "start_time": "2023-01-23T09:04:17.729209",
     "status": "completed"
    },
    "tags": []
   },
   "outputs": [],
   "source": [
    "train = pd.read_csv('data/train.csv')\n",
    "test = pd.read_csv('data/test.csv')"
   ]
  },
  {
   "cell_type": "code",
   "execution_count": 3,
   "id": "864aefe4",
   "metadata": {
    "execution": {
     "iopub.execute_input": "2023-01-23T09:04:24.337345Z",
     "iopub.status.busy": "2023-01-23T09:04:24.336504Z",
     "iopub.status.idle": "2023-01-23T09:04:24.373285Z",
     "shell.execute_reply": "2023-01-23T09:04:24.371686Z"
    },
    "papermill": {
     "duration": 0.051804,
     "end_time": "2023-01-23T09:04:24.377082",
     "exception": false,
     "start_time": "2023-01-23T09:04:24.325278",
     "status": "completed"
    },
    "tags": []
   },
   "outputs": [
    {
     "data": {
      "text/html": [
       "<div>\n",
       "<style scoped>\n",
       "    .dataframe tbody tr th:only-of-type {\n",
       "        vertical-align: middle;\n",
       "    }\n",
       "\n",
       "    .dataframe tbody tr th {\n",
       "        vertical-align: top;\n",
       "    }\n",
       "\n",
       "    .dataframe thead th {\n",
       "        text-align: right;\n",
       "    }\n",
       "</style>\n",
       "<table border=\"1\" class=\"dataframe\">\n",
       "  <thead>\n",
       "    <tr style=\"text-align: right;\">\n",
       "      <th></th>\n",
       "      <th>label</th>\n",
       "      <th>pixel0</th>\n",
       "      <th>pixel1</th>\n",
       "      <th>pixel2</th>\n",
       "      <th>pixel3</th>\n",
       "      <th>pixel4</th>\n",
       "      <th>pixel5</th>\n",
       "      <th>pixel6</th>\n",
       "      <th>pixel7</th>\n",
       "      <th>pixel8</th>\n",
       "      <th>...</th>\n",
       "      <th>pixel774</th>\n",
       "      <th>pixel775</th>\n",
       "      <th>pixel776</th>\n",
       "      <th>pixel777</th>\n",
       "      <th>pixel778</th>\n",
       "      <th>pixel779</th>\n",
       "      <th>pixel780</th>\n",
       "      <th>pixel781</th>\n",
       "      <th>pixel782</th>\n",
       "      <th>pixel783</th>\n",
       "    </tr>\n",
       "  </thead>\n",
       "  <tbody>\n",
       "    <tr>\n",
       "      <th>0</th>\n",
       "      <td>1</td>\n",
       "      <td>0</td>\n",
       "      <td>0</td>\n",
       "      <td>0</td>\n",
       "      <td>0</td>\n",
       "      <td>0</td>\n",
       "      <td>0</td>\n",
       "      <td>0</td>\n",
       "      <td>0</td>\n",
       "      <td>0</td>\n",
       "      <td>...</td>\n",
       "      <td>0</td>\n",
       "      <td>0</td>\n",
       "      <td>0</td>\n",
       "      <td>0</td>\n",
       "      <td>0</td>\n",
       "      <td>0</td>\n",
       "      <td>0</td>\n",
       "      <td>0</td>\n",
       "      <td>0</td>\n",
       "      <td>0</td>\n",
       "    </tr>\n",
       "    <tr>\n",
       "      <th>1</th>\n",
       "      <td>0</td>\n",
       "      <td>0</td>\n",
       "      <td>0</td>\n",
       "      <td>0</td>\n",
       "      <td>0</td>\n",
       "      <td>0</td>\n",
       "      <td>0</td>\n",
       "      <td>0</td>\n",
       "      <td>0</td>\n",
       "      <td>0</td>\n",
       "      <td>...</td>\n",
       "      <td>0</td>\n",
       "      <td>0</td>\n",
       "      <td>0</td>\n",
       "      <td>0</td>\n",
       "      <td>0</td>\n",
       "      <td>0</td>\n",
       "      <td>0</td>\n",
       "      <td>0</td>\n",
       "      <td>0</td>\n",
       "      <td>0</td>\n",
       "    </tr>\n",
       "    <tr>\n",
       "      <th>2</th>\n",
       "      <td>1</td>\n",
       "      <td>0</td>\n",
       "      <td>0</td>\n",
       "      <td>0</td>\n",
       "      <td>0</td>\n",
       "      <td>0</td>\n",
       "      <td>0</td>\n",
       "      <td>0</td>\n",
       "      <td>0</td>\n",
       "      <td>0</td>\n",
       "      <td>...</td>\n",
       "      <td>0</td>\n",
       "      <td>0</td>\n",
       "      <td>0</td>\n",
       "      <td>0</td>\n",
       "      <td>0</td>\n",
       "      <td>0</td>\n",
       "      <td>0</td>\n",
       "      <td>0</td>\n",
       "      <td>0</td>\n",
       "      <td>0</td>\n",
       "    </tr>\n",
       "    <tr>\n",
       "      <th>3</th>\n",
       "      <td>4</td>\n",
       "      <td>0</td>\n",
       "      <td>0</td>\n",
       "      <td>0</td>\n",
       "      <td>0</td>\n",
       "      <td>0</td>\n",
       "      <td>0</td>\n",
       "      <td>0</td>\n",
       "      <td>0</td>\n",
       "      <td>0</td>\n",
       "      <td>...</td>\n",
       "      <td>0</td>\n",
       "      <td>0</td>\n",
       "      <td>0</td>\n",
       "      <td>0</td>\n",
       "      <td>0</td>\n",
       "      <td>0</td>\n",
       "      <td>0</td>\n",
       "      <td>0</td>\n",
       "      <td>0</td>\n",
       "      <td>0</td>\n",
       "    </tr>\n",
       "    <tr>\n",
       "      <th>4</th>\n",
       "      <td>0</td>\n",
       "      <td>0</td>\n",
       "      <td>0</td>\n",
       "      <td>0</td>\n",
       "      <td>0</td>\n",
       "      <td>0</td>\n",
       "      <td>0</td>\n",
       "      <td>0</td>\n",
       "      <td>0</td>\n",
       "      <td>0</td>\n",
       "      <td>...</td>\n",
       "      <td>0</td>\n",
       "      <td>0</td>\n",
       "      <td>0</td>\n",
       "      <td>0</td>\n",
       "      <td>0</td>\n",
       "      <td>0</td>\n",
       "      <td>0</td>\n",
       "      <td>0</td>\n",
       "      <td>0</td>\n",
       "      <td>0</td>\n",
       "    </tr>\n",
       "  </tbody>\n",
       "</table>\n",
       "<p>5 rows × 785 columns</p>\n",
       "</div>"
      ],
      "text/plain": [
       "   label  pixel0  pixel1  pixel2  pixel3  pixel4  pixel5  pixel6  pixel7  \\\n",
       "0      1       0       0       0       0       0       0       0       0   \n",
       "1      0       0       0       0       0       0       0       0       0   \n",
       "2      1       0       0       0       0       0       0       0       0   \n",
       "3      4       0       0       0       0       0       0       0       0   \n",
       "4      0       0       0       0       0       0       0       0       0   \n",
       "\n",
       "   pixel8  ...  pixel774  pixel775  pixel776  pixel777  pixel778  pixel779  \\\n",
       "0       0  ...         0         0         0         0         0         0   \n",
       "1       0  ...         0         0         0         0         0         0   \n",
       "2       0  ...         0         0         0         0         0         0   \n",
       "3       0  ...         0         0         0         0         0         0   \n",
       "4       0  ...         0         0         0         0         0         0   \n",
       "\n",
       "   pixel780  pixel781  pixel782  pixel783  \n",
       "0         0         0         0         0  \n",
       "1         0         0         0         0  \n",
       "2         0         0         0         0  \n",
       "3         0         0         0         0  \n",
       "4         0         0         0         0  \n",
       "\n",
       "[5 rows x 785 columns]"
      ]
     },
     "execution_count": 3,
     "metadata": {},
     "output_type": "execute_result"
    }
   ],
   "source": [
    "train.head()"
   ]
  },
  {
   "cell_type": "code",
   "execution_count": 4,
   "id": "ea0d5cae",
   "metadata": {
    "execution": {
     "iopub.execute_input": "2023-01-23T09:04:24.394628Z",
     "iopub.status.busy": "2023-01-23T09:04:24.393385Z",
     "iopub.status.idle": "2023-01-23T09:04:24.717216Z",
     "shell.execute_reply": "2023-01-23T09:04:24.715533Z"
    },
    "papermill": {
     "duration": 0.335952,
     "end_time": "2023-01-23T09:04:24.720456",
     "exception": false,
     "start_time": "2023-01-23T09:04:24.384504",
     "status": "completed"
    },
    "tags": []
   },
   "outputs": [],
   "source": [
    "y_train = train['label']\n",
    "X_train = train.drop(columns=['label']).copy()"
   ]
  },
  {
   "cell_type": "code",
   "execution_count": 5,
   "id": "2055e08a",
   "metadata": {
    "execution": {
     "iopub.execute_input": "2023-01-23T09:04:24.736359Z",
     "iopub.status.busy": "2023-01-23T09:04:24.735489Z",
     "iopub.status.idle": "2023-01-23T09:04:24.794319Z",
     "shell.execute_reply": "2023-01-23T09:04:24.792532Z"
    },
    "papermill": {
     "duration": 0.071157,
     "end_time": "2023-01-23T09:04:24.798312",
     "exception": false,
     "start_time": "2023-01-23T09:04:24.727155",
     "status": "completed"
    },
    "tags": []
   },
   "outputs": [
    {
     "name": "stdout",
     "output_type": "stream",
     "text": [
      "(42000, 784)\n",
      "(28000, 784)\n",
      "------------------------------\n",
      "0\n",
      "------------------------------\n",
      "{0, 131, 7, 10, 13, 15, 16, 17, 20, 22, 23, 25, 27, 29, 159, 167, 168, 170, 54, 188, 191, 195, 196, 198, 203, 76, 77, 206, 207, 80, 208, 209, 210, 81, 214, 88, 89, 218, 220, 93, 94, 95, 103, 235, 238, 251, 240, 245, 247, 248, 250, 123, 253, 254, 255}\n",
      "------------------------------\n",
      "{0, 1, 2, 3, 4, 5, 6, 7, 8, 9}\n"
     ]
    }
   ],
   "source": [
    "print(X_train.shape)\n",
    "print(test.shape)\n",
    "print('-'*30)\n",
    "print(sum(X_train.isnull().sum()))\n",
    "print('-'*30)\n",
    "print(set(X_train.loc[0]))\n",
    "print('-'*30)\n",
    "print(set(y_train))"
   ]
  },
  {
   "cell_type": "code",
   "execution_count": 6,
   "id": "570a878a",
   "metadata": {
    "execution": {
     "iopub.execute_input": "2023-01-23T09:04:24.815411Z",
     "iopub.status.busy": "2023-01-23T09:04:24.814981Z",
     "iopub.status.idle": "2023-01-23T09:04:25.181122Z",
     "shell.execute_reply": "2023-01-23T09:04:25.178938Z"
    },
    "papermill": {
     "duration": 0.378485,
     "end_time": "2023-01-23T09:04:25.184279",
     "exception": false,
     "start_time": "2023-01-23T09:04:24.805794",
     "status": "completed"
    },
    "tags": []
   },
   "outputs": [
    {
     "name": "stderr",
     "output_type": "stream",
     "text": [
      "/opt/conda/lib/python3.7/site-packages/seaborn/_decorators.py:43: FutureWarning: Pass the following variable as a keyword arg: x. From version 0.12, the only valid positional argument will be `data`, and passing other arguments without an explicit keyword will result in an error or misinterpretation.\n",
      "  FutureWarning\n"
     ]
    },
    {
     "data": {
      "image/png": "[encoded data removed]",
      "text/plain": [
       "<Figure size 432x288 with 1 Axes>"
      ]
     },
     "metadata": {},
     "output_type": "display_data"
    }
   ],
   "source": [
    "sns.set(style='white', context='notebook', palette='Paired')\n",
    "g = sns.countplot(y_train)"
   ]
  },
  {
   "cell_type": "code",
   "execution_count": 7,
   "id": "66ca326e",
   "metadata": {
    "execution": {
     "iopub.execute_input": "2023-01-23T09:04:25.204131Z",
     "iopub.status.busy": "2023-01-23T09:04:25.203530Z",
     "iopub.status.idle": "2023-01-23T09:04:25.339527Z",
     "shell.execute_reply": "2023-01-23T09:04:25.337952Z"
    },
    "papermill": {
     "duration": 0.149337,
     "end_time": "2023-01-23T09:04:25.342777",
     "exception": false,
     "start_time": "2023-01-23T09:04:25.193440",
     "status": "completed"
    },
    "tags": []
   },
   "outputs": [],
   "source": [
    "X_train /= 255\n",
    "test /= 255"
   ]
  },
  {
   "cell_type": "code",
   "execution_count": 8,
   "id": "69b48864",
   "metadata": {
    "execution": {
     "iopub.execute_input": "2023-01-23T09:04:25.364099Z",
     "iopub.status.busy": "2023-01-23T09:04:25.362279Z",
     "iopub.status.idle": "2023-01-23T09:04:25.369034Z",
     "shell.execute_reply": "2023-01-23T09:04:25.368059Z"
    },
    "papermill": {
     "duration": 0.021523,
     "end_time": "2023-01-23T09:04:25.371533",
     "exception": false,
     "start_time": "2023-01-23T09:04:25.350010",
     "status": "completed"
    },
    "tags": []
   },
   "outputs": [],
   "source": [
    "X_train = X_train.values.reshape(-1, 28, 28, 1)\n",
    "test = test.values.reshape(-1, 28, 28, 1)"
   ]
  },
  {
   "cell_type": "code",
   "execution_count": 9,
   "id": "124c65ed",
   "metadata": {
    "execution": {
     "iopub.execute_input": "2023-01-23T09:04:25.390248Z",
     "iopub.status.busy": "2023-01-23T09:04:25.388743Z",
     "iopub.status.idle": "2023-01-23T09:04:25.395470Z",
     "shell.execute_reply": "2023-01-23T09:04:25.394463Z"
    },
    "papermill": {
     "duration": 0.019969,
     "end_time": "2023-01-23T09:04:25.399023",
     "exception": false,
     "start_time": "2023-01-23T09:04:25.379054",
     "status": "completed"
    },
    "tags": []
   },
   "outputs": [],
   "source": [
    "y_train = to_categorical(y_train, num_classes = 10)"
   ]
  },
  {
   "cell_type": "code",
   "execution_count": 10,
   "id": "8de47854",
   "metadata": {
    "execution": {
     "iopub.execute_input": "2023-01-23T09:04:25.416226Z",
     "iopub.status.busy": "2023-01-23T09:04:25.415723Z",
     "iopub.status.idle": "2023-01-23T09:04:25.966973Z",
     "shell.execute_reply": "2023-01-23T09:04:25.965585Z"
    },
    "papermill": {
     "duration": 0.563533,
     "end_time": "2023-01-23T09:04:25.970103",
     "exception": false,
     "start_time": "2023-01-23T09:04:25.406570",
     "status": "completed"
    },
    "tags": []
   },
   "outputs": [],
   "source": [
    "X_train, X_valid, y_train, y_valid = train_test_split(X_train, y_train, \n",
    "                                            test_size=0.2, random_state=0)"
   ]
  },
  {
   "cell_type": "code",
   "execution_count": 11,
   "id": "1cce2486",
   "metadata": {
    "execution": {
     "iopub.execute_input": "2023-01-23T09:04:25.986902Z",
     "iopub.status.busy": "2023-01-23T09:04:25.986464Z",
     "iopub.status.idle": "2023-01-23T09:04:26.074519Z",
     "shell.execute_reply": "2023-01-23T09:04:26.072728Z"
    },
    "papermill": {
     "duration": 0.100798,
     "end_time": "2023-01-23T09:04:26.077822",
     "exception": false,
     "start_time": "2023-01-23T09:04:25.977024",
     "status": "completed"
    },
    "tags": []
   },
   "outputs": [],
   "source": [
    "# data augmentation\n",
    "\n",
    "dataGen = ImageDataGenerator(\n",
    "        featurewise_center=False,\n",
    "        samplewise_center=False,\n",
    "        featurewise_std_normalization=False,\n",
    "        samplewise_std_normalization=False,\n",
    "        zca_whitening=False,\n",
    "        rotation_range=20,\n",
    "        zoom_range = 0.1,\n",
    "        width_shift_range=0.2,\n",
    "        height_shift_range=0.2,\n",
    "        horizontal_flip=False,\n",
    "        vertical_flip=False)\n",
    "\n",
    "dataGen.fit(X_train)"
   ]
  },
  {
   "cell_type": "markdown",
   "id": "455b76c3",
   "metadata": {
    "papermill": {
     "duration": 0.006879,
     "end_time": "2023-01-23T09:04:26.092115",
     "exception": false,
     "start_time": "2023-01-23T09:04:26.085236",
     "status": "completed"
    },
    "tags": []
   },
   "source": [
    "# Model"
   ]
  },
  {
   "cell_type": "code",
   "execution_count": 12,
   "id": "bab4512e",
   "metadata": {
    "execution": {
     "iopub.execute_input": "2023-01-23T09:04:26.110727Z",
     "iopub.status.busy": "2023-01-23T09:04:26.109531Z",
     "iopub.status.idle": "2023-01-23T09:04:26.352619Z",
     "shell.execute_reply": "2023-01-23T09:04:26.350555Z"
    },
    "papermill": {
     "duration": 0.255808,
     "end_time": "2023-01-23T09:04:26.355330",
     "exception": false,
     "start_time": "2023-01-23T09:04:26.099522",
     "status": "completed"
    },
    "tags": []
   },
   "outputs": [
    {
     "name": "stderr",
     "output_type": "stream",
     "text": [
      "2023-01-23 09:04:26.157342: I tensorflow/core/common_runtime/process_util.cc:146] Creating new thread pool with default inter op setting: 2. Tune using inter_op_parallelism_threads for best performance.\n"
     ]
    }
   ],
   "source": [
    "model = Sequential()\n",
    "\n",
    "model.add(Conv2D(filters = 128, kernel_size = (3, 3),padding = 'Same', \n",
    "                 activation ='relu', input_shape = (28,28,1)))\n",
    "model.add(Conv2D(filters = 128, kernel_size = (3, 3),padding = 'Same', \n",
    "                 activation ='relu'))\n",
    "model.add(MaxPool2D(pool_size=(2,2)))\n",
    "\n",
    "model.add(Conv2D(filters = 64, kernel_size = (3, 3),padding = 'Same', \n",
    "                 activation ='relu'))\n",
    "model.add(Conv2D(filters = 64, kernel_size = (3, 3),padding = 'Same', \n",
    "                 activation ='relu'))\n",
    "model.add(MaxPool2D(pool_size=(2,2)))\n",
    "\n",
    "model.add(Conv2D(filters = 32, kernel_size = (3, 3),padding = 'Same', \n",
    "                 activation ='relu'))\n",
    "model.add(Conv2D(filters = 32, kernel_size = (3, 3),padding = 'Same', \n",
    "                 activation ='relu'))\n",
    "model.add(MaxPool2D(pool_size=(2,2)))\n",
    "\n",
    "model.add(Flatten())\n",
    "model.add(Dropout(0.5))\n",
    "\n",
    "model.add(Dense(32, activation = \"relu\"))\n",
    "model.add(Dropout(0.5))\n",
    "model.add(Dense(16, activation = \"relu\"))\n",
    "model.add(Dense(10, activation = \"softmax\"))"
   ]
  },
  {
   "cell_type": "code",
   "execution_count": 13,
   "id": "689a07ee",
   "metadata": {
    "execution": {
     "iopub.execute_input": "2023-01-23T09:04:26.373727Z",
     "iopub.status.busy": "2023-01-23T09:04:26.373241Z",
     "iopub.status.idle": "2023-01-23T09:04:26.382309Z",
     "shell.execute_reply": "2023-01-23T09:04:26.380418Z"
    },
    "papermill": {
     "duration": 0.023293,
     "end_time": "2023-01-23T09:04:26.387180",
     "exception": false,
     "start_time": "2023-01-23T09:04:26.363887",
     "status": "completed"
    },
    "tags": []
   },
   "outputs": [
    {
     "name": "stdout",
     "output_type": "stream",
     "text": [
      "Model: \"sequential\"\n",
      "_________________________________________________________________\n",
      "Layer (type)                 Output Shape              Param #   \n",
      "=================================================================\n",
      "conv2d (Conv2D)              (None, 28, 28, 128)       1280      \n",
      "_________________________________________________________________\n",
      "conv2d_1 (Conv2D)            (None, 28, 28, 128)       147584    \n",
      "_________________________________________________________________\n",
      "max_pooling2d (MaxPooling2D) (None, 14, 14, 128)       0         \n",
      "_________________________________________________________________\n",
      "conv2d_2 (Conv2D)            (None, 14, 14, 64)        73792     \n",
      "_________________________________________________________________\n",
      "conv2d_3 (Conv2D)            (None, 14, 14, 64)        36928     \n",
      "_________________________________________________________________\n",
      "max_pooling2d_1 (MaxPooling2 (None, 7, 7, 64)          0         \n",
      "_________________________________________________________________\n",
      "conv2d_4 (Conv2D)            (None, 7, 7, 32)          18464     \n",
      "_________________________________________________________________\n",
      "conv2d_5 (Conv2D)            (None, 7, 7, 32)          9248      \n",
      "_________________________________________________________________\n",
      "max_pooling2d_2 (MaxPooling2 (None, 3, 3, 32)          0         \n",
      "_________________________________________________________________\n",
      "flatten (Flatten)            (None, 288)               0         \n",
      "_________________________________________________________________\n",
      "dropout (Dropout)            (None, 288)               0         \n",
      "_________________________________________________________________\n",
      "dense (Dense)                (None, 32)                9248      \n",
      "_________________________________________________________________\n",
      "dropout_1 (Dropout)          (None, 32)                0         \n",
      "_________________________________________________________________\n",
      "dense_1 (Dense)              (None, 16)                528       \n",
      "_________________________________________________________________\n",
      "dense_2 (Dense)              (None, 10)                170       \n",
      "=================================================================\n",
      "Total params: 297,242\n",
      "Trainable params: 297,242\n",
      "Non-trainable params: 0\n",
      "_________________________________________________________________\n"
     ]
    }
   ],
   "source": [
    "model.summary()"
   ]
  },
  {
   "cell_type": "code",
   "execution_count": 14,
   "id": "ce39231d",
   "metadata": {
    "execution": {
     "iopub.execute_input": "2023-01-23T09:04:26.405632Z",
     "iopub.status.busy": "2023-01-23T09:04:26.405067Z",
     "iopub.status.idle": "2023-01-23T10:50:23.957142Z",
     "shell.execute_reply": "2023-01-23T10:50:23.955780Z"
    },
    "papermill": {
     "duration": 6358.349198,
     "end_time": "2023-01-23T10:50:24.744683",
     "exception": false,
     "start_time": "2023-01-23T09:04:26.395485",
     "status": "completed"
    },
    "tags": []
   },
   "outputs": [
    {
     "name": "stderr",
     "output_type": "stream",
     "text": [
      "2023-01-23 09:04:26.579747: I tensorflow/compiler/mlir/mlir_graph_optimization_pass.cc:185] None of the MLIR Optimization Passes are enabled (registered 2)\n"
     ]
    },
    {
     "name": "stdout",
     "output_type": "stream",
     "text": [
      "Epoch 1/20\n",
      "525/525 [==============================] - 315s 597ms/step - loss: 1.8646 - accuracy: 0.3094 - val_loss: 0.7530 - val_accuracy: 0.8011\n",
      "Epoch 2/20\n",
      "525/525 [==============================] - 295s 562ms/step - loss: 1.0532 - accuracy: 0.6365 - val_loss: 0.2673 - val_accuracy: 0.9337\n",
      "Epoch 3/20\n",
      "525/525 [==============================] - 294s 561ms/step - loss: 0.7063 - accuracy: 0.7759 - val_loss: 0.1615 - val_accuracy: 0.9574\n",
      "Epoch 4/20\n",
      "525/525 [==============================] - 293s 559ms/step - loss: 0.5258 - accuracy: 0.8368 - val_loss: 0.1290 - val_accuracy: 0.9642\n",
      "Epoch 5/20\n",
      "525/525 [==============================] - 289s 551ms/step - loss: 0.4475 - accuracy: 0.8659 - val_loss: 0.0922 - val_accuracy: 0.9756\n",
      "Epoch 6/20\n",
      "525/525 [==============================] - 286s 545ms/step - loss: 0.3839 - accuracy: 0.8853 - val_loss: 0.0775 - val_accuracy: 0.9800\n",
      "Epoch 7/20\n",
      "525/525 [==============================] - 288s 548ms/step - loss: 0.3351 - accuracy: 0.9002 - val_loss: 0.1088 - val_accuracy: 0.9715\n",
      "Epoch 8/20\n",
      "525/525 [==============================] - 295s 562ms/step - loss: 0.2918 - accuracy: 0.9135 - val_loss: 0.0658 - val_accuracy: 0.9838\n",
      "Epoch 9/20\n",
      "525/525 [==============================] - 303s 577ms/step - loss: 0.2619 - accuracy: 0.9255 - val_loss: 0.0634 - val_accuracy: 0.9829\n",
      "Epoch 10/20\n",
      "525/525 [==============================] - 301s 574ms/step - loss: 0.2438 - accuracy: 0.9291 - val_loss: 0.0526 - val_accuracy: 0.9860\n",
      "Epoch 11/20\n",
      "525/525 [==============================] - 288s 550ms/step - loss: 0.2265 - accuracy: 0.9340 - val_loss: 0.0517 - val_accuracy: 0.9879\n",
      "Epoch 12/20\n",
      "525/525 [==============================] - 290s 551ms/step - loss: 0.2090 - accuracy: 0.9393 - val_loss: 0.0478 - val_accuracy: 0.9893\n",
      "Epoch 13/20\n",
      "525/525 [==============================] - 301s 573ms/step - loss: 0.2019 - accuracy: 0.9431 - val_loss: 0.0366 - val_accuracy: 0.9898\n",
      "Epoch 14/20\n",
      "525/525 [==============================] - 307s 584ms/step - loss: 0.1916 - accuracy: 0.9464 - val_loss: 0.0396 - val_accuracy: 0.9882\n",
      "Epoch 15/20\n",
      "525/525 [==============================] - 294s 561ms/step - loss: 0.1789 - accuracy: 0.9502 - val_loss: 0.0473 - val_accuracy: 0.9883\n",
      "Epoch 16/20\n",
      "525/525 [==============================] - 288s 549ms/step - loss: 0.1694 - accuracy: 0.9539 - val_loss: 0.0369 - val_accuracy: 0.9893\n",
      "Epoch 17/20\n",
      "525/525 [==============================] - 287s 548ms/step - loss: 0.1600 - accuracy: 0.9563 - val_loss: 0.0410 - val_accuracy: 0.9895\n",
      "Epoch 18/20\n",
      "525/525 [==============================] - 292s 556ms/step - loss: 0.1568 - accuracy: 0.9564 - val_loss: 0.0425 - val_accuracy: 0.9892\n",
      "Epoch 19/20\n",
      "525/525 [==============================] - 307s 585ms/step - loss: 0.1473 - accuracy: 0.9593 - val_loss: 0.0355 - val_accuracy: 0.9915\n",
      "Epoch 20/20\n",
      "525/525 [==============================] - 310s 591ms/step - loss: 0.1410 - accuracy: 0.9608 - val_loss: 0.0386 - val_accuracy: 0.9907\n"
     ]
    }
   ],
   "source": [
    "model.compile(loss='categorical_crossentropy', \n",
    "              metrics=[\"accuracy\"],\n",
    "              optimizer=Adam(learning_rate=0.0003))\n",
    "\n",
    "epochs = 20\n",
    "BS = 64\n",
    "\n",
    "history = model.fit(dataGen.flow(X_train,y_train, batch_size = BS),\n",
    "                    epochs= epochs,\n",
    "                    validation_data=(X_valid, y_valid),\n",
    "                    verbose = 1)"
   ]
  },
  {
   "cell_type": "code",
   "execution_count": 15,
   "id": "1c668e18",
   "metadata": {
    "execution": {
     "iopub.execute_input": "2023-01-23T10:50:26.205533Z",
     "iopub.status.busy": "2023-01-23T10:50:26.204736Z",
     "iopub.status.idle": "2023-01-23T10:50:26.476057Z",
     "shell.execute_reply": "2023-01-23T10:50:26.474737Z"
    },
    "papermill": {
     "duration": 1.047599,
     "end_time": "2023-01-23T10:50:26.479417",
     "exception": false,
     "start_time": "2023-01-23T10:50:25.431818",
     "status": "completed"
    },
    "tags": []
   },
   "outputs": [
    {
     "data": {
      "image/png": "[encoded data removed]",
      "text/plain": [
       "<Figure size 432x288 with 1 Axes>"
      ]
     },
     "metadata": {},
     "output_type": "display_data"
    }
   ],
   "source": [
    "plt.plot(history.history['loss'])\n",
    "plt.plot(history.history['val_loss'])\n",
    "plt.show()"
   ]
  },
  {
   "cell_type": "code",
   "execution_count": 16,
   "id": "66bee305",
   "metadata": {
    "execution": {
     "iopub.execute_input": "2023-01-23T10:50:27.840910Z",
     "iopub.status.busy": "2023-01-23T10:50:27.840106Z",
     "iopub.status.idle": "2023-01-23T10:50:28.103521Z",
     "shell.execute_reply": "2023-01-23T10:50:28.101558Z"
    },
    "papermill": {
     "duration": 0.944437,
     "end_time": "2023-01-23T10:50:28.106568",
     "exception": false,
     "start_time": "2023-01-23T10:50:27.162131",
     "status": "completed"
    },
    "tags": []
   },
   "outputs": [
    {
     "data": {
      "image/png": "[encoded data removed]",
      "text/plain": [
       "<Figure size 432x288 with 1 Axes>"
      ]
     },
     "metadata": {},
     "output_type": "display_data"
    }
   ],
   "source": [
    "plt.plot(history.history['accuracy'])\n",
    "plt.plot(history.history['val_accuracy'])\n",
    "plt.show()"
   ]
  },
  {
   "cell_type": "code",
   "execution_count": 17,
   "id": "c3e577fe",
   "metadata": {
    "execution": {
     "iopub.execute_input": "2023-01-23T10:50:29.553814Z",
     "iopub.status.busy": "2023-01-23T10:50:29.553175Z",
     "iopub.status.idle": "2023-01-23T10:50:52.448713Z",
     "shell.execute_reply": "2023-01-23T10:50:52.447270Z"
    },
    "papermill": {
     "duration": 23.578696,
     "end_time": "2023-01-23T10:50:52.452313",
     "exception": false,
     "start_time": "2023-01-23T10:50:28.873617",
     "status": "completed"
    },
    "tags": []
   },
   "outputs": [],
   "source": [
    "# predict\n",
    "y_pred = model.predict(X_valid)\n",
    "y_classes = np.argmax(y_pred,axis = 1) \n",
    "\n",
    "# acc\n",
    "y_true = np.argmax(y_valid,axis = 1) "
   ]
  },
  {
   "cell_type": "code",
   "execution_count": 18,
   "id": "6d1515dd",
   "metadata": {
    "execution": {
     "iopub.execute_input": "2023-01-23T10:50:53.932102Z",
     "iopub.status.busy": "2023-01-23T10:50:53.931606Z",
     "iopub.status.idle": "2023-01-23T10:50:53.944992Z",
     "shell.execute_reply": "2023-01-23T10:50:53.943179Z"
    },
    "papermill": {
     "duration": 0.712793,
     "end_time": "2023-01-23T10:50:53.947979",
     "exception": false,
     "start_time": "2023-01-23T10:50:53.235186",
     "status": "completed"
    },
    "tags": []
   },
   "outputs": [
    {
     "data": {
      "text/plain": [
       "array([[805,   0,   1,   0,   0,   0,   4,   0,   2,   1],\n",
       "       [  0, 948,   3,   1,   0,   1,   3,   3,   2,   0],\n",
       "       [  1,   0, 856,   0,   0,   0,   1,   0,   2,   0],\n",
       "       [  1,   0,   3, 853,   0,   3,   0,   2,   0,   1],\n",
       "       [  0,   2,   0,   0, 821,   0,   2,   0,   0,   2],\n",
       "       [  0,   0,   0,   0,   0, 751,   2,   0,   2,   1],\n",
       "       [  0,   0,   0,   0,   0,   0, 839,   0,   2,   0],\n",
       "       [  0,   1,  10,   0,   0,   0,   0, 883,   0,   5],\n",
       "       [  0,   0,   0,   0,   0,   0,   1,   0, 767,   0],\n",
       "       [  0,   0,   0,   0,   4,   1,   0,   1,   7, 799]])"
      ]
     },
     "execution_count": 18,
     "metadata": {},
     "output_type": "execute_result"
    }
   ],
   "source": [
    "confusion_mtx = confusion_matrix(y_true, y_classes) \n",
    "confusion_mtx"
   ]
  },
  {
   "cell_type": "code",
   "execution_count": 19,
   "id": "5ff41aff",
   "metadata": {
    "execution": {
     "iopub.execute_input": "2023-01-23T10:50:55.457391Z",
     "iopub.status.busy": "2023-01-23T10:50:55.455610Z",
     "iopub.status.idle": "2023-01-23T10:50:56.337837Z",
     "shell.execute_reply": "2023-01-23T10:50:56.336878Z"
    },
    "papermill": {
     "duration": 1.700453,
     "end_time": "2023-01-23T10:50:56.340343",
     "exception": false,
     "start_time": "2023-01-23T10:50:54.639890",
     "status": "completed"
    },
    "tags": []
   },
   "outputs": [
    {
     "data": {
      "text/plain": [
       "Text(0.5, 28.479184719828694, 'Predicted label')"
      ]
     },
     "execution_count": 19,
     "metadata": {},
     "output_type": "execute_result"
    },
    {
     "data": {
      "image/png": "[encoded data removed]",
      "text/plain": [
       "<Figure size 576x432 with 2 Axes>"
      ]
     },
     "metadata": {},
     "output_type": "display_data"
    }
   ],
   "source": [
    "classes = range(10)\n",
    "\n",
    "plt.figure(figsize=(8, 6))\n",
    "plt.imshow(confusion_mtx, interpolation='nearest', cmap = plt.cm.Reds)\n",
    "plt.title('Confusion matrix')\n",
    "plt.colorbar()\n",
    "\n",
    "tick_marks = np.arange(len(classes))\n",
    "plt.xticks(tick_marks, classes, rotation=45)\n",
    "plt.yticks(tick_marks, classes)\n",
    "\n",
    "thresh = confusion_mtx.max() / 2.\n",
    "for i, j in itertools.product(range(confusion_mtx.shape[0]), range(confusion_mtx.shape[1])):\n",
    "    plt.text(j, i, confusion_mtx[i, j],\n",
    "             horizontalalignment=\"center\",\n",
    "             color=\"white\" if confusion_mtx[i, j] > thresh else \"black\")\n",
    "\n",
    "plt.tight_layout()\n",
    "plt.ylabel('True label')\n",
    "plt.xlabel('Predicted label')"
   ]
  },
  {
   "cell_type": "code",
   "execution_count": 20,
   "id": "d1a04771",
   "metadata": {
    "execution": {
     "iopub.execute_input": "2023-01-23T10:50:57.736030Z",
     "iopub.status.busy": "2023-01-23T10:50:57.735586Z",
     "iopub.status.idle": "2023-01-23T10:52:13.915448Z",
     "shell.execute_reply": "2023-01-23T10:52:13.913661Z"
    },
    "papermill": {
     "duration": 76.880838,
     "end_time": "2023-01-23T10:52:13.919165",
     "exception": false,
     "start_time": "2023-01-23T10:50:57.038327",
     "status": "completed"
    },
    "tags": []
   },
   "outputs": [],
   "source": [
    "results = model.predict(test)\n",
    "results_classes = np.argmax(results, axis = 1)"
   ]
  },
  {
   "cell_type": "code",
   "execution_count": 21,
   "id": "6d2243c2",
   "metadata": {
    "execution": {
     "iopub.execute_input": "2023-01-23T10:52:15.398247Z",
     "iopub.status.busy": "2023-01-23T10:52:15.397485Z",
     "iopub.status.idle": "2023-01-23T10:52:15.404934Z",
     "shell.execute_reply": "2023-01-23T10:52:15.403784Z"
    },
    "papermill": {
     "duration": 0.794669,
     "end_time": "2023-01-23T10:52:15.407945",
     "exception": false,
     "start_time": "2023-01-23T10:52:14.613276",
     "status": "completed"
    },
    "tags": []
   },
   "outputs": [],
   "source": [
    "submission = pd.DataFrame({\n",
    "    'ImageId': np.arange(1,len(test)+1),\n",
    "    'Label': results_classes\n",
    "})"
   ]
  },
  {
   "cell_type": "code",
   "execution_count": 22,
   "id": "f57629c6",
   "metadata": {
    "execution": {
     "iopub.execute_input": "2023-01-23T10:52:16.891782Z",
     "iopub.status.busy": "2023-01-23T10:52:16.891309Z",
     "iopub.status.idle": "2023-01-23T10:52:16.932308Z",
     "shell.execute_reply": "2023-01-23T10:52:16.930851Z"
    },
    "papermill": {
     "duration": 0.824001,
     "end_time": "2023-01-23T10:52:16.935524",
     "exception": false,
     "start_time": "2023-01-23T10:52:16.111523",
     "status": "completed"
    },
    "tags": []
   },
   "outputs": [],
   "source": [
    "submission.to_csv(\"submission.csv\",index=False)"
   ]
  },
  {
   "cell_type": "code",
   "execution_count": null,
   "id": "1fb5307e",
   "metadata": {
    "papermill": {
     "duration": 0.676685,
     "end_time": "2023-01-23T10:52:18.299022",
     "exception": false,
     "start_time": "2023-01-23T10:52:17.622337",
     "status": "completed"
    },
    "tags": []
   },
   "outputs": [],
   "source": []
  }
 ],
 "metadata": {
  "kernelspec": {
   "display_name": "Python 3",
   "language": "python",
   "name": "python3"
  },
  "language_info": {
   "codemirror_mode": {
    "name": "ipython",
    "version": 3
   },
   "file_extension": ".py",
   "mimetype": "text/x-python",
   "name": "python",
   "nbconvert_exporter": "python",
   "pygments_lexer": "ipython3",
   "version": "3.7.12"
  },
  "papermill": {
   "default_parameters": {},
   "duration": 6507.051423,
   "end_time": "2023-01-23T10:52:22.561865",
   "environment_variables": {},
   "exception": null,
   "input_path": "__notebook__.ipynb",
   "output_path": "__notebook__.ipynb",
   "parameters": {},
   "start_time": "2023-01-23T09:03:55.510442",
   "version": "2.3.4"
  }
 },
 "nbformat": 4,
 "nbformat_minor": 5
}
